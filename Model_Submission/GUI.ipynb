{
 "cells": [
  {
   "cell_type": "code",
   "execution_count": 4,
   "metadata": {},
   "outputs": [
    {
     "name": "stdout",
     "output_type": "stream",
     "text": [
      "fatal: destination path 'fairgraph' already exists and is not an empty directory.\n",
      "Requirement already satisfied: openid_http_client from git+https://github.com/HumanBrainProject/openid_http_client.git#egg=openid_http_client&subdirectory=openid_http_client in /Users/yann/anaconda3/envs/dev/lib/python3.7/site-packages (from -r ./fairgraph/requirements.txt (line 1)) (0.0.21)\n",
      "Requirement already satisfied: pyxus from git+https://github.com/HumanBrainProject/pyxus.git#egg=pyxus&subdirectory=pyxus in /Users/yann/anaconda3/envs/dev/lib/python3.7/site-packages (from -r ./fairgraph/requirements.txt (line 2)) (0.5.1)\n",
      "Requirement already satisfied: pathlib2 in /Users/yann/anaconda3/envs/dev/lib/python3.7/site-packages (from -r ./fairgraph/requirements.txt (line 3)) (2.3.4)\n",
      "Requirement already satisfied: python-dateutil in /Users/yann/anaconda3/envs/dev/lib/python3.7/site-packages (from -r ./fairgraph/requirements.txt (line 4)) (2.6.0)\n",
      "Requirement already satisfied: six in /Users/yann/anaconda3/envs/dev/lib/python3.7/site-packages (from -r ./fairgraph/requirements.txt (line 5)) (1.10.0)\n",
      "Requirement already satisfied: requests in /Users/yann/anaconda3/envs/dev/lib/python3.7/site-packages (from openid_http_client->-r ./fairgraph/requirements.txt (line 1)) (2.22.0)\n",
      "Requirement already satisfied: curlify in /Users/yann/anaconda3/envs/dev/lib/python3.7/site-packages (from openid_http_client->-r ./fairgraph/requirements.txt (line 1)) (2.2.1)\n",
      "Requirement already satisfied: pystache in /Users/yann/anaconda3/envs/dev/lib/python3.7/site-packages (from pyxus->-r ./fairgraph/requirements.txt (line 2)) (0.5.4)\n",
      "Requirement already satisfied: rdflib in /Users/yann/anaconda3/envs/dev/lib/python3.7/site-packages (from pyxus->-r ./fairgraph/requirements.txt (line 2)) (4.2.2)\n",
      "Requirement already satisfied: rdflib-jsonld in /Users/yann/anaconda3/envs/dev/lib/python3.7/site-packages (from pyxus->-r ./fairgraph/requirements.txt (line 2)) (0.4.0)\n",
      "Requirement already satisfied: pyld in /Users/yann/anaconda3/envs/dev/lib/python3.7/site-packages (from pyxus->-r ./fairgraph/requirements.txt (line 2)) (1.0.5)\n",
      "Requirement already satisfied: urllib3!=1.25.0,!=1.25.1,<1.26,>=1.21.1 in /Users/yann/anaconda3/envs/dev/lib/python3.7/site-packages (from requests->openid_http_client->-r ./fairgraph/requirements.txt (line 1)) (1.25.3)\n",
      "Requirement already satisfied: chardet<3.1.0,>=3.0.2 in /Users/yann/anaconda3/envs/dev/lib/python3.7/site-packages (from requests->openid_http_client->-r ./fairgraph/requirements.txt (line 1)) (3.0.4)\n",
      "Requirement already satisfied: idna<2.9,>=2.5 in /Users/yann/anaconda3/envs/dev/lib/python3.7/site-packages (from requests->openid_http_client->-r ./fairgraph/requirements.txt (line 1)) (2.8)\n",
      "Requirement already satisfied: certifi>=2017.4.17 in /Users/yann/anaconda3/envs/dev/lib/python3.7/site-packages (from requests->openid_http_client->-r ./fairgraph/requirements.txt (line 1)) (2019.6.16)\n",
      "Requirement already satisfied: pyparsing in /Users/yann/anaconda3/envs/dev/lib/python3.7/site-packages (from rdflib->pyxus->-r ./fairgraph/requirements.txt (line 2)) (2.1.10)\n",
      "Requirement already satisfied: isodate in /Users/yann/anaconda3/envs/dev/lib/python3.7/site-packages (from rdflib->pyxus->-r ./fairgraph/requirements.txt (line 2)) (0.6.0)\n",
      "Processing ./fairgraph\n",
      "Building wheels for collected packages: fairgraph\n",
      "  Building wheel for fairgraph (setup.py) ... \u001b[?25ldone\n",
      "\u001b[?25h  Stored in directory: /private/var/folders/xq/c5r4hhgs7cxbtc5t115jlfqc0000gx/T/pip-ephem-wheel-cache-sdwg3zec/wheels/9a/44/40/9b7a7b6b121d7e7f72c3ca3a7e4792b2a24893e8726509e20d\n",
      "Successfully built fairgraph\n",
      "Installing collected packages: fairgraph\n",
      "  Found existing installation: fairgraph 0.3.1\n",
      "    Uninstalling fairgraph-0.3.1:\n",
      "      Successfully uninstalled fairgraph-0.3.1\n",
      "Successfully installed fairgraph-0.3.1\n"
     ]
    }
   ],
   "source": [
    "# a script defining the Registration_Form class\n",
    "!git clone https://github.com/apdavison/fairgraph.git\n",
    "!pip install -r ./fairgraph/requirements.txt\n",
    "!pip install -U ./fairgraph"
   ]
  },
  {
   "cell_type": "code",
   "execution_count": 1,
   "metadata": {},
   "outputs": [],
   "source": [
    "%run jupyter_form.py"
   ]
  },
  {
   "cell_type": "code",
   "execution_count": 2,
   "metadata": {},
   "outputs": [
    {
     "name": "stdout",
     "output_type": "stream",
     "text": [
      "-----------------------------------------------\n",
      "--- MODEL REGISTRATION IN HBP MODEL CATALOG ---\n",
      "-----------------------------------------------\n"
     ]
    },
    {
     "data": {
      "application/vnd.jupyter.widget-view+json": {
       "model_id": "8de9f846b4c44bafacb6624006b98ea7",
       "version_major": 2,
       "version_minor": 0
      },
      "text/plain": [
       "interactive(children=(Text(value='', description='Name:', placeholder='e.g. Layer V Network in CA1'), Output()…"
      ]
     },
     "metadata": {},
     "output_type": "display_data"
    },
    {
     "data": {
      "application/vnd.jupyter.widget-view+json": {
       "model_id": "6da554a6a68b4a369a255afd44b0cf9a",
       "version_major": 2,
       "version_minor": 0
      },
      "text/plain": [
       "interactive(children=(Text(value='', description='Alias:', placeholder='e.g. L5-CA1_Ntwk'), Button(description…"
      ]
     },
     "metadata": {},
     "output_type": "display_data"
    },
    {
     "data": {
      "application/vnd.jupyter.widget-view+json": {
       "model_id": "ade2c119f90e4a5ca0fcc5209674f57b",
       "version_major": 2,
       "version_minor": 0
      },
      "text/plain": [
       "interactive(children=(Text(value='', description='Contact:', placeholder='e.g. Smith, John D.'), Output()), _d…"
      ]
     },
     "metadata": {},
     "output_type": "display_data"
    },
    {
     "data": {
      "application/vnd.jupyter.widget-view+json": {
       "model_id": "965f12576115443aba782b234222ee39",
       "version_major": 2,
       "version_minor": 0
      },
      "text/plain": [
       "interactive(children=(Text(value='', description='Institution:', placeholder='e.g. CNRS, France'), Output()), …"
      ]
     },
     "metadata": {},
     "output_type": "display_data"
    },
    {
     "data": {
      "application/vnd.jupyter.widget-view+json": {
       "model_id": "2dd4d7c72c5b4019a13a6e01dadd7cc3",
       "version_major": 2,
       "version_minor": 0
      },
      "text/plain": [
       "interactive(children=(Text(value='', description='Contributors:', description_tooltip='e.g. Smith, John D.; Du…"
      ]
     },
     "metadata": {},
     "output_type": "display_data"
    },
    {
     "data": {
      "application/vnd.jupyter.widget-view+json": {
       "model_id": "074dc54ab5e14d22ab7c7c68b4e06441",
       "version_major": 2,
       "version_minor": 0
      },
      "text/plain": [
       "interactive(children=(Textarea(value='', description='Description:', placeholder='Decribe the model here'), Ou…"
      ]
     },
     "metadata": {},
     "output_type": "display_data"
    },
    {
     "data": {
      "application/vnd.jupyter.widget-view+json": {
       "model_id": "fc0df111298145188b67d61bea8f818c",
       "version_major": 2,
       "version_minor": 0
      },
      "text/plain": [
       "interactive(children=(Text(value='', description='Fig. URL:', placeholder='github.com/name/repo/fig.png'), But…"
      ]
     },
     "metadata": {},
     "output_type": "display_data"
    },
    {
     "data": {
      "application/vnd.jupyter.widget-view+json": {
       "model_id": "d269785935e549e88afbcf8469deef32",
       "version_major": 2,
       "version_minor": 0
      },
      "text/plain": [
       "Image(value=b'', width='50')"
      ]
     },
     "metadata": {},
     "output_type": "display_data"
    },
    {
     "data": {
      "application/vnd.jupyter.widget-view+json": {
       "model_id": "2a12c7fe7416455db4879c8f86cf72fe",
       "version_major": 2,
       "version_minor": 0
      },
      "text/plain": [
       "interactive(children=(Dropdown(description='Species:', options=('', 'Homo Sapiens', 'Rattus Norvegicus', 'Mus …"
      ]
     },
     "metadata": {},
     "output_type": "display_data"
    },
    {
     "data": {
      "application/vnd.jupyter.widget-view+json": {
       "model_id": "9ff4372b9cb94de4bd40410766d51461",
       "version_major": 2,
       "version_minor": 0
      },
      "text/plain": [
       "interactive(children=(Dropdown(description='Region:', options=('', 'Cortex', 'Hippocampus', 'Cerebellum'), val…"
      ]
     },
     "metadata": {},
     "output_type": "display_data"
    },
    {
     "data": {
      "application/vnd.jupyter.widget-view+json": {
       "model_id": "acbae4b85577402cafd670d3e7713081",
       "version_major": 2,
       "version_minor": 0
      },
      "text/plain": [
       "interactive(children=(Dropdown(description='Cell type:', options=('', 'Pyramidal Cell', 'Interneuron'), value=…"
      ]
     },
     "metadata": {},
     "output_type": "display_data"
    },
    {
     "data": {
      "application/vnd.jupyter.widget-view+json": {
       "model_id": "349c2a5edf9a464ea5e50666d5f17421",
       "version_major": 2,
       "version_minor": 0
      },
      "text/plain": [
       "interactive(children=(Dropdown(description='Model scope:', options=('', 'network', 'single cell', 'subcellular…"
      ]
     },
     "metadata": {},
     "output_type": "display_data"
    },
    {
     "data": {
      "application/vnd.jupyter.widget-view+json": {
       "model_id": "8b4f5ae9c3824b54ba77fccae5549a7b",
       "version_major": 2,
       "version_minor": 0
      },
      "text/plain": [
       "interactive(children=(Dropdown(description='Abstraction level:', options=('', 'biophysical', 'population', 'fu…"
      ]
     },
     "metadata": {},
     "output_type": "display_data"
    },
    {
     "data": {
      "application/vnd.jupyter.widget-view+json": {
       "model_id": "d16d83be356649498614f8e5984dde84",
       "version_major": 2,
       "version_minor": 0
      },
      "text/plain": [
       "interactive(children=(RadioButtons(description='License', options=('Free', 'OpenSource', 'CreativeCommons'), v…"
      ]
     },
     "metadata": {},
     "output_type": "display_data"
    },
    {
     "data": {
      "application/vnd.jupyter.widget-view+json": {
       "model_id": "ab9870256a2c430490f44f0be8d93288",
       "version_major": 2,
       "version_minor": 0
      },
      "text/plain": [
       "interactive(children=(HTML(value='<b>Add a Version </b> (optional)', description='x', placeholder=''), Output(…"
      ]
     },
     "metadata": {},
     "output_type": "display_data"
    },
    {
     "data": {
      "application/vnd.jupyter.widget-view+json": {
       "model_id": "5c26c55b7a3344bc99a07a87b68c0e96",
       "version_major": 2,
       "version_minor": 0
      },
      "text/plain": [
       "interactive(children=(Text(value='', description='Name:', placeholder='e.g. v1.0'), Output()), _dom_classes=('…"
      ]
     },
     "metadata": {},
     "output_type": "display_data"
    },
    {
     "data": {
      "application/vnd.jupyter.widget-view+json": {
       "model_id": "6c7043e97d5c424d881bf62c737f8663",
       "version_major": 2,
       "version_minor": 0
      },
      "text/plain": [
       "interactive(children=(Text(value='', description='URL location:', placeholder='github.com/name/repo'), Button(…"
      ]
     },
     "metadata": {},
     "output_type": "display_data"
    },
    {
     "data": {
      "application/vnd.jupyter.widget-view+json": {
       "model_id": "f82f49cc4df541a7a6ad1e0229586772",
       "version_major": 2,
       "version_minor": 0
      },
      "text/plain": [
       "interactive(children=(Text(value='', description='Commit:', placeholder=''), Button(description='Check commit'…"
      ]
     },
     "metadata": {},
     "output_type": "display_data"
    },
    {
     "data": {
      "application/vnd.jupyter.widget-view+json": {
       "model_id": "21c853846f1e476cab8924e6944031bf",
       "version_major": 2,
       "version_minor": 0
      },
      "text/plain": [
       "interactive(children=(Textarea(value='', description='Description:', placeholder='Decribe the version'), Outpu…"
      ]
     },
     "metadata": {},
     "output_type": "display_data"
    }
   ],
   "source": [
    "Form = Registration_Form()\n",
    "Form.show_registration_form()"
   ]
  },
  {
   "cell_type": "code",
   "execution_count": 3,
   "metadata": {},
   "outputs": [],
   "source": [
    "Zerlaut_Destexhe_PCB2017 = {\n",
    "    'name':'Rall model morphology for Layer V pyramidal neuron in juvenile mice V1',\n",
    "    'alias':'Rall-Morpho_L5PyrMiceV1',\n",
    "    'contact': 'Zerlaut, Yann',\n",
    "    'contributors': 'Zerlaut, Yann; Destexhe, Alain',\n",
    "    'institution': 'CNRS, France',\n",
    "    'description': 'Neocortical processing of sensory input relies on the specific activation of subpopulations within the cortical network. Though specific circuitry is thought to be the primary mechanism underlying this functional principle, we explore here a putative complementary mechanism: whether diverse biophysical features in single neurons contribute to such differential activation. In a previous study, we reported that, in young mice visual cortex, individual neurons differ not only in their excitability but also in their sensitivities to the properties of the membrane potential fluctuations. In the present work, we analyze how this heterogeneity is translated into diverse input-output properties in the context of low synchrony population dynamics. As expected, we found that individual neurons couple differentially to specific form of presynaptic activity (emulating afferent stimuli of various properties) mostly because of their differences in excitability. However, we also found that the response to proximal dendritic input was controlled by the sensitivity to the speed of the fluctuations (which can be linked to various levels of density of sodium channels and sodium inactivation). Our study thus proposes a novel quantitative insight into the functional impact of biophysical heterogeneity: because of their various firing responses to fluctuations, individual neurons will differentially couple to local network activity.',\n",
    "    'species':'Mus Musculus',\n",
    "    'region':'Cortex',\n",
    "    'cell_type':'Pyramidal Cell',\n",
    "    'scope':'single cell',\n",
    "    'abstraction':'biophysical',\n",
    "    'version_name':'PCB2017',\n",
    "    'version_description':'version published as : \"Heterogeneous firing responses predict diverse couplings to presynaptic activity in mice layer V pyramidal neurons\" Y Zerlaut, A Destexhe. PLoS computational biology 13 (4), e1005452',\n",
    "    'data_url':'https://github.com/yzerlaut/diverse_coupling_to_synaptic_activity',\n",
    "    'fig_url':'https://raw.github.com/yzerlaut/diverse_coupling_to_synaptic_activity/master/figures/fig2_demo.png',\n",
    "    'commit_id':'8223e95',\n",
    "    'license':'Free'}"
   ]
  },
  {
   "cell_type": "code",
   "execution_count": 4,
   "metadata": {},
   "outputs": [
    {
     "name": "stdout",
     "output_type": "stream",
     "text": [
      "-----------------------------------------------\n",
      "--- MODEL REGISTRATION IN HBP MODEL CATALOG ---\n",
      "-----------------------------------------------\n"
     ]
    },
    {
     "data": {
      "application/vnd.jupyter.widget-view+json": {
       "model_id": "8de9f846b4c44bafacb6624006b98ea7",
       "version_major": 2,
       "version_minor": 0
      },
      "text/plain": [
       "interactive(children=(Text(value='Rall model morphology for Layer V pyramidal neuron in juvenile mice V1', des…"
      ]
     },
     "metadata": {},
     "output_type": "display_data"
    },
    {
     "data": {
      "application/vnd.jupyter.widget-view+json": {
       "model_id": "6da554a6a68b4a369a255afd44b0cf9a",
       "version_major": 2,
       "version_minor": 0
      },
      "text/plain": [
       "interactive(children=(Text(value='Rall-Morpho_L5PyrMiceV1', description='Alias:', placeholder='e.g. L5-CA1_Ntw…"
      ]
     },
     "metadata": {},
     "output_type": "display_data"
    },
    {
     "data": {
      "application/vnd.jupyter.widget-view+json": {
       "model_id": "ade2c119f90e4a5ca0fcc5209674f57b",
       "version_major": 2,
       "version_minor": 0
      },
      "text/plain": [
       "interactive(children=(Text(value='Zerlaut, Yann', description='Contact:', placeholder='e.g. Smith, John D.'), …"
      ]
     },
     "metadata": {},
     "output_type": "display_data"
    },
    {
     "data": {
      "application/vnd.jupyter.widget-view+json": {
       "model_id": "965f12576115443aba782b234222ee39",
       "version_major": 2,
       "version_minor": 0
      },
      "text/plain": [
       "interactive(children=(Text(value='CNRS, France', description='Institution:', placeholder='e.g. CNRS, France'),…"
      ]
     },
     "metadata": {},
     "output_type": "display_data"
    },
    {
     "data": {
      "application/vnd.jupyter.widget-view+json": {
       "model_id": "2dd4d7c72c5b4019a13a6e01dadd7cc3",
       "version_major": 2,
       "version_minor": 0
      },
      "text/plain": [
       "interactive(children=(Text(value='Zerlaut, Yann; Destexhe, Alain', description='Contributors:', description_to…"
      ]
     },
     "metadata": {},
     "output_type": "display_data"
    },
    {
     "data": {
      "application/vnd.jupyter.widget-view+json": {
       "model_id": "074dc54ab5e14d22ab7c7c68b4e06441",
       "version_major": 2,
       "version_minor": 0
      },
      "text/plain": [
       "interactive(children=(Textarea(value='Neocortical processing of sensory input relies on the specific activatio…"
      ]
     },
     "metadata": {},
     "output_type": "display_data"
    },
    {
     "data": {
      "application/vnd.jupyter.widget-view+json": {
       "model_id": "fc0df111298145188b67d61bea8f818c",
       "version_major": 2,
       "version_minor": 0
      },
      "text/plain": [
       "interactive(children=(Text(value='https://raw.github.com/yzerlaut/diverse_coupling_to_synaptic_activity/master…"
      ]
     },
     "metadata": {},
     "output_type": "display_data"
    },
    {
     "data": {
      "application/vnd.jupyter.widget-view+json": {
       "model_id": "d269785935e549e88afbcf8469deef32",
       "version_major": 2,
       "version_minor": 0
      },
      "text/plain": [
       "Image(value=b'', width='50')"
      ]
     },
     "metadata": {},
     "output_type": "display_data"
    },
    {
     "data": {
      "application/vnd.jupyter.widget-view+json": {
       "model_id": "2a12c7fe7416455db4879c8f86cf72fe",
       "version_major": 2,
       "version_minor": 0
      },
      "text/plain": [
       "interactive(children=(Dropdown(description='Species:', index=3, options=('', 'Homo Sapiens', 'Rattus Norvegicu…"
      ]
     },
     "metadata": {},
     "output_type": "display_data"
    },
    {
     "data": {
      "application/vnd.jupyter.widget-view+json": {
       "model_id": "9ff4372b9cb94de4bd40410766d51461",
       "version_major": 2,
       "version_minor": 0
      },
      "text/plain": [
       "interactive(children=(Dropdown(description='Region:', index=1, options=('', 'Cortex', 'Hippocampus', 'Cerebell…"
      ]
     },
     "metadata": {},
     "output_type": "display_data"
    },
    {
     "data": {
      "application/vnd.jupyter.widget-view+json": {
       "model_id": "acbae4b85577402cafd670d3e7713081",
       "version_major": 2,
       "version_minor": 0
      },
      "text/plain": [
       "interactive(children=(Dropdown(description='Cell type:', index=1, options=('', 'Pyramidal Cell', 'Interneuron'…"
      ]
     },
     "metadata": {},
     "output_type": "display_data"
    },
    {
     "data": {
      "application/vnd.jupyter.widget-view+json": {
       "model_id": "349c2a5edf9a464ea5e50666d5f17421",
       "version_major": 2,
       "version_minor": 0
      },
      "text/plain": [
       "interactive(children=(Dropdown(description='Model scope:', index=2, options=('', 'network', 'single cell', 'su…"
      ]
     },
     "metadata": {},
     "output_type": "display_data"
    },
    {
     "data": {
      "application/vnd.jupyter.widget-view+json": {
       "model_id": "8b4f5ae9c3824b54ba77fccae5549a7b",
       "version_major": 2,
       "version_minor": 0
      },
      "text/plain": [
       "interactive(children=(Dropdown(description='Abstraction level:', index=1, options=('', 'biophysical', 'populat…"
      ]
     },
     "metadata": {},
     "output_type": "display_data"
    },
    {
     "data": {
      "application/vnd.jupyter.widget-view+json": {
       "model_id": "d16d83be356649498614f8e5984dde84",
       "version_major": 2,
       "version_minor": 0
      },
      "text/plain": [
       "interactive(children=(RadioButtons(description='License', options=('Free', 'OpenSource', 'CreativeCommons'), v…"
      ]
     },
     "metadata": {},
     "output_type": "display_data"
    },
    {
     "data": {
      "application/vnd.jupyter.widget-view+json": {
       "model_id": "ab9870256a2c430490f44f0be8d93288",
       "version_major": 2,
       "version_minor": 0
      },
      "text/plain": [
       "interactive(children=(HTML(value='<b>Add a Version </b> (optional)', description='x', placeholder=''), Output(…"
      ]
     },
     "metadata": {},
     "output_type": "display_data"
    },
    {
     "data": {
      "application/vnd.jupyter.widget-view+json": {
       "model_id": "5c26c55b7a3344bc99a07a87b68c0e96",
       "version_major": 2,
       "version_minor": 0
      },
      "text/plain": [
       "interactive(children=(Text(value='PCB2017', description='Name:', placeholder='e.g. v1.0'), Output()), _dom_cla…"
      ]
     },
     "metadata": {},
     "output_type": "display_data"
    },
    {
     "data": {
      "application/vnd.jupyter.widget-view+json": {
       "model_id": "6c7043e97d5c424d881bf62c737f8663",
       "version_major": 2,
       "version_minor": 0
      },
      "text/plain": [
       "interactive(children=(Text(value='https://github.com/yzerlaut/diverse_coupling_to_synaptic_activity', descript…"
      ]
     },
     "metadata": {},
     "output_type": "display_data"
    },
    {
     "data": {
      "application/vnd.jupyter.widget-view+json": {
       "model_id": "f82f49cc4df541a7a6ad1e0229586772",
       "version_major": 2,
       "version_minor": 0
      },
      "text/plain": [
       "interactive(children=(Text(value='8223e95', description='Commit:', placeholder=''), Button(description='Check …"
      ]
     },
     "metadata": {},
     "output_type": "display_data"
    },
    {
     "data": {
      "application/vnd.jupyter.widget-view+json": {
       "model_id": "21c853846f1e476cab8924e6944031bf",
       "version_major": 2,
       "version_minor": 0
      },
      "text/plain": [
       "interactive(children=(Textarea(value='version published as : \"Heterogeneous firing responses predict diverse c…"
      ]
     },
     "metadata": {},
     "output_type": "display_data"
    }
   ],
   "source": [
    "Form.fill_with_dictionary(Zerlaut_Destexhe_PCB2017)\n",
    "Form.show_registration_form()"
   ]
  },
  {
   "cell_type": "code",
   "execution_count": 9,
   "metadata": {},
   "outputs": [
    {
     "data": {
      "text/plain": [
       "<Response [200]>"
      ]
     },
     "execution_count": 9,
     "metadata": {},
     "output_type": "execute_result"
    }
   ],
   "source": [
    "import requests"
   ]
  },
  {
   "cell_type": "code",
   "execution_count": 29,
   "metadata": {},
   "outputs": [
    {
     "data": {
      "text/plain": [
       "603770"
      ]
     },
     "execution_count": 29,
     "metadata": {},
     "output_type": "execute_result"
    }
   ],
   "source": [
    "fn = 'https://raw.github.com/yzerlaut/diverse_coupling_to_synaptic_activity/master/figures/fig2_demo.png'\n",
    "r = requests.get(fn)\n",
    "open('icon.png', 'wb').write(r.content)"
   ]
  },
  {
   "cell_type": "code",
   "execution_count": null,
   "metadata": {},
   "outputs": [],
   "source": []
  }
 ],
 "metadata": {
  "kernelspec": {
   "display_name": "Python 3",
   "language": "python",
   "name": "python3"
  },
  "language_info": {
   "codemirror_mode": {
    "name": "ipython",
    "version": 3
   },
   "file_extension": ".py",
   "mimetype": "text/x-python",
   "name": "python",
   "nbconvert_exporter": "python",
   "pygments_lexer": "ipython3",
   "version": "3.7.3"
  }
 },
 "nbformat": 4,
 "nbformat_minor": 2
}
