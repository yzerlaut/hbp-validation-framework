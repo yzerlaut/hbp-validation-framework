{
 "cells": [
  {
   "cell_type": "code",
   "execution_count": 2,
   "metadata": {},
   "outputs": [
    {
     "data": {
      "text/plain": [
       "'7.5.1'"
      ]
     },
     "execution_count": 2,
     "metadata": {},
     "output_type": "execute_result"
    }
   ],
   "source": [
    "from __future__ import print_function\n",
    "from ipywidgets import interact, interactive, fixed, interact_manual\n",
    "import ipywidgets as widgets\n",
    "widgets.__version__"
   ]
  },
  {
   "cell_type": "code",
   "execution_count": 260,
   "metadata": {},
   "outputs": [],
   "source": [
    "\n",
    "class Registration_Form:\n",
    "    \n",
    "    def __init__(self):\n",
    "        self.Widget_List = {}\n",
    "        \n",
    "        self.Widget_List['name'] = interactive(self.f,\n",
    "                                              x=widgets.Text(\\\n",
    "                                                    value='',\n",
    "                                                    placeholder='e.g. Layer V Network in CA1',\n",
    "                                                    description='Name:'));\n",
    "        self.Widget_List['alias'] = interactive(self.f_alias, {'manual': True, 'manual_name':'Check validity'},\n",
    "                                              x=widgets.Text(\\\n",
    "                                                    value='',\n",
    "                                                    placeholder='e.g. L5-CA1_Ntwk',\n",
    "                                                    description='Alias:'));\n",
    "        self.Widget_List['contact'] = interactive(self.f,\n",
    "                                                    x=widgets.Text(\\\n",
    "                                                    value='',\n",
    "                                                    placeholder='e.g. Smith, John D.',\n",
    "                                                    description='Contact:'));\n",
    "        \n",
    "        self.Widget_List['institution'] = interactive(self.f,\n",
    "                                                    x=widgets.Text(\\\n",
    "                                                    value='',\n",
    "                                                    placeholder='e.g. CNRS, France',\n",
    "                                                    description='Institution:'));\n",
    "        \n",
    "        self.Widget_List['contributors'] = interactive(self.f,\n",
    "                                                    x=widgets.Text(\\\n",
    "                                                    value='',\n",
    "                                                    description_tooltip='e.g. Smith, John D.; Dupont, Jean Paul; Mueller, Jan; Russo, Giovanni',\n",
    "                                                    placeholder='e.g. Smith, John D.; Dupont, Jean Paul; Mueller, Jan; Russo, Giovanni',\n",
    "                                                    description='Contributors:'));\n",
    "        \n",
    "        self.Widget_List['description'] = interactive(self.f,\n",
    "                                                        x=widgets.Textarea(\n",
    "                                                        placeholder='Decribe the model here',\n",
    "                                                        description='Description:'))\n",
    "        # optional figure upload\n",
    "        self.Widget_List['figure'] = interactive(self.f_fig,\n",
    "                                                {'manual': True, 'manual_name':'Upload figure'},\n",
    "                                                  x=widgets.Text(\\\n",
    "                                                    value='',\n",
    "                                                    placeholder='github.com/name/repo/fig.png',\n",
    "                                                    description='Fig. URL:'));\n",
    "        \n",
    "        self.Widget_List['species'] = interactive(self.f,\n",
    "                                                        x=widgets.Dropdown(\n",
    "                                                        options=['',\n",
    "                                                                 'Homo Sapiens',\n",
    "                                                                 'Rattus Norvegicus',\n",
    "                                                                 'Mus Musculus'],\n",
    "                                                        value='',\n",
    "                                                        description='Species:'))\n",
    "                                                  \n",
    "        self.Widget_List['region'] = interactive(self.f,\n",
    "                                                        x=widgets.Dropdown(\n",
    "                                                        options=['', 'Cortex',\n",
    "                                                                 'Hippocampus',\n",
    "                                                                 'Cerebellum'],\n",
    "                                                        value='',\n",
    "                                                        description='Region:'))\n",
    "        self.Widget_List['cell_type'] = interactive(self.f,\n",
    "                                                        x=widgets.Dropdown(\n",
    "                                                        options=['', \n",
    "                                                                 'Pyramidal Cell',\n",
    "                                                                 'Interneuron'],\n",
    "                                                        value='',\n",
    "                                                        description='Cell type:'))\n",
    " \n",
    "        self.Widget_List['scope'] = interactive(self.f,\n",
    "                                                        x=widgets.Dropdown(\n",
    "                                                        options=['', \n",
    "                                                                 'network',\n",
    "                                                                 'single cell',\n",
    "                                                                 'subcellular'],\n",
    "                                                        value='',\n",
    "                                                        description='Model scope:'))\n",
    "        self.Widget_List['abstraction'] = interactive(self.f,\n",
    "                                                        x=widgets.Dropdown(\n",
    "                                                        options=['', \n",
    "                                                                 'biophysical',\n",
    "                                                                 'population',\n",
    "                                                                 'functional'],\n",
    "                                                        value='',\n",
    "                                                        description='Abstraction level:'))\n",
    "\n",
    "\n",
    "        self.Widget_List['license'] = interactive(self.f,\n",
    "                                                    x=widgets.RadioButtons(\n",
    "                                                    options=['Free', 'OpenSource', 'CreativeCommons'],\n",
    "                                                    description='License'))\n",
    " \n",
    "        self.Widget_List['version_text'] = interactive(self.f,\n",
    "                                                    x=widgets.HTML(placeholder='',\n",
    "                                                                   value=\"<b>Add a Version </b> (optional)\"))\n",
    "        self.Widget_List['version_name'] = interactive(self.f,\n",
    "                                              x=widgets.Text(\\\n",
    "                                                    value='',\n",
    "                                                    placeholder='e.g. v1.0',\n",
    "                                                    description='Name:'));\n",
    "        self.Widget_List['data_url'] = interactive(self.f_url,\n",
    "                                                {'manual': True, 'manual_name':'Check data availability'},\n",
    "                                                  x=widgets.Text(\\\n",
    "                                                    value='',\n",
    "                                                    placeholder='github.com/name/repo',\n",
    "                                                    description='URL location:'));\n",
    "        self.Widget_List['commit_id'] = interactive(self.f_commit,\n",
    "                                                {'manual': True, 'manual_name':'Check commit'},\n",
    "                                                  x=widgets.Text(\\\n",
    "                                                    value='',\n",
    "                                                    placeholder='',\n",
    "                                                    description='Commit:'));\n",
    "        self.Widget_List['version_description'] = interactive(self.f,\n",
    "                                                        x=widgets.Textarea(\n",
    "                                                        placeholder='Decribe the version',\n",
    "                                                        description='Description:'))\n",
    " \n",
    "        \n",
    "        \n",
    "        \n",
    "    def f(self, x):\n",
    "            return x\n",
    "        \n",
    "    def f_alias(self, x):\n",
    "        if x!='':\n",
    "            print('\"%s\" is a valid alias' % x)\n",
    "        else:\n",
    "            print('\"%s\" is not a valid alias, please modify it' % x)            \n",
    "        return x\n",
    "\n",
    "    def f_url(self, x):\n",
    "        if x!='':\n",
    "            print('\"%s\" is a valid url' % x)\n",
    "        else:\n",
    "            print('\"%s\" is not a valid url, please modify it' % x)            \n",
    "        return x\n",
    "    \n",
    "    def f_commit(self, x):\n",
    "        if x!='':\n",
    "            print('\"%s\" is a valid commit' % x)\n",
    "        else:\n",
    "            print('\"%s\" is not a valid commit, please modify it' % x)            \n",
    "        return x\n",
    "\n",
    "    def f_fig(self, x):\n",
    "        print('figure upload to be imlemented')            \n",
    "        return x\n",
    "    \n",
    "    def fill_with_dictionary(self, dictionary):\n",
    "        for key, val in dictionary.items():\n",
    "            if key in self.Widget_List:\n",
    "                self.Widget_List[key].children[0].value = val\n",
    "            else:\n",
    "                print('key \"%s\" is not present in the Registration Form' % key)\n",
    "            \n",
    "    def show_registration_form(self):\n",
    "        print('-----------------------------------------------')\n",
    "        print('--- MODEL REGISTRATION IN HBP MODEL CATALOG ---')\n",
    "        print('-----------------------------------------------')\n",
    "        for key, val in self.Widget_List.items():\n",
    "            display(val)\n",
    "\n",
    "    def close_widgets(self):\n",
    "        for key, val in self.Widget_List.items():\n",
    "            val.close()\n",
    "\n",
    "    def print_registration_results(self):\n",
    "        for key, val in self.Widget_List.items():\n",
    "            try:\n",
    "                print(val.result)\n",
    "            except AttributeError:\n",
    "                pass\n",
    "\n",
    "\n",
    "\n",
    "\n"
   ]
  },
  {
   "cell_type": "code",
   "execution_count": 257,
   "metadata": {},
   "outputs": [
    {
     "name": "stdout",
     "output_type": "stream",
     "text": [
      "-----------------------------------------------\n",
      "--- MODEL REGISTRATION IN HBP MODEL CATALOG ---\n",
      "-----------------------------------------------\n"
     ]
    },
    {
     "data": {
      "application/vnd.jupyter.widget-view+json": {
       "model_id": "febd60d96a034016bc370b35cbd7c3e2",
       "version_major": 2,
       "version_minor": 0
      },
      "text/plain": [
       "interactive(children=(Text(value='', description='Name:', placeholder='e.g. Layer V Network in CA1'), Output()…"
      ]
     },
     "metadata": {},
     "output_type": "display_data"
    },
    {
     "data": {
      "application/vnd.jupyter.widget-view+json": {
       "model_id": "86093a6024c24e9892368fdf2dee44a9",
       "version_major": 2,
       "version_minor": 0
      },
      "text/plain": [
       "interactive(children=(Text(value='', description='Alias:', placeholder='e.g. L5-CA1_Ntwk'), Button(description…"
      ]
     },
     "metadata": {},
     "output_type": "display_data"
    },
    {
     "data": {
      "application/vnd.jupyter.widget-view+json": {
       "model_id": "f6424607f90d44d298a7ce08115da180",
       "version_major": 2,
       "version_minor": 0
      },
      "text/plain": [
       "interactive(children=(Text(value='', description='Contact:', placeholder='e.g. Smith, John D.'), Output()), _d…"
      ]
     },
     "metadata": {},
     "output_type": "display_data"
    },
    {
     "data": {
      "application/vnd.jupyter.widget-view+json": {
       "model_id": "1ec7f39fd3c94d428a4de38cd9c656a0",
       "version_major": 2,
       "version_minor": 0
      },
      "text/plain": [
       "interactive(children=(Text(value='', description='Institution:', placeholder='e.g. CNRS, France'), Output()), …"
      ]
     },
     "metadata": {},
     "output_type": "display_data"
    },
    {
     "data": {
      "application/vnd.jupyter.widget-view+json": {
       "model_id": "be37f96521fa49dabfb5b358610d19ef",
       "version_major": 2,
       "version_minor": 0
      },
      "text/plain": [
       "interactive(children=(Text(value='', description='Contributors:', description_tooltip='e.g. Smith, John D.; Du…"
      ]
     },
     "metadata": {},
     "output_type": "display_data"
    },
    {
     "data": {
      "application/vnd.jupyter.widget-view+json": {
       "model_id": "fabeb2ddb99b4e999bfc8affd9a8b585",
       "version_major": 2,
       "version_minor": 0
      },
      "text/plain": [
       "interactive(children=(Textarea(value='', description='Description:', placeholder='Decribe the model here'), Ou…"
      ]
     },
     "metadata": {},
     "output_type": "display_data"
    },
    {
     "data": {
      "application/vnd.jupyter.widget-view+json": {
       "model_id": "4a75e67b18d04af88886cb4f5f53a7a4",
       "version_major": 2,
       "version_minor": 0
      },
      "text/plain": [
       "interactive(children=(Text(value='', description='Fig. URL:', placeholder='github.com/name/repo/fig.png'), But…"
      ]
     },
     "metadata": {},
     "output_type": "display_data"
    },
    {
     "data": {
      "application/vnd.jupyter.widget-view+json": {
       "model_id": "1588ce003a6e4561b5210137f6aec065",
       "version_major": 2,
       "version_minor": 0
      },
      "text/plain": [
       "interactive(children=(Dropdown(description='Species:', options=('', 'Homo Sapiens', 'Rattus Norvegicus', 'Mus …"
      ]
     },
     "metadata": {},
     "output_type": "display_data"
    },
    {
     "data": {
      "application/vnd.jupyter.widget-view+json": {
       "model_id": "646ce83949bf4fcaaf6647966e3148d4",
       "version_major": 2,
       "version_minor": 0
      },
      "text/plain": [
       "interactive(children=(Dropdown(description='Region:', options=('', 'Cortex', 'Hippocampus', 'Cerebellum'), val…"
      ]
     },
     "metadata": {},
     "output_type": "display_data"
    },
    {
     "data": {
      "application/vnd.jupyter.widget-view+json": {
       "model_id": "bd64b6f675024602ae4030999da67426",
       "version_major": 2,
       "version_minor": 0
      },
      "text/plain": [
       "interactive(children=(Dropdown(description='Cell type:', options=('', 'Pyramidal Cell', 'Interneuron'), value=…"
      ]
     },
     "metadata": {},
     "output_type": "display_data"
    },
    {
     "data": {
      "application/vnd.jupyter.widget-view+json": {
       "model_id": "a8848edda0ec4c5fb42f221e201f7cf3",
       "version_major": 2,
       "version_minor": 0
      },
      "text/plain": [
       "interactive(children=(Dropdown(description='Model scope:', options=('', 'network', 'single cell', 'subcellular…"
      ]
     },
     "metadata": {},
     "output_type": "display_data"
    },
    {
     "data": {
      "application/vnd.jupyter.widget-view+json": {
       "model_id": "fb43a079e5f1427099e2151c31d0e7b6",
       "version_major": 2,
       "version_minor": 0
      },
      "text/plain": [
       "interactive(children=(Dropdown(description='Abstraction level:', options=('', 'biophysical', 'population', 'fu…"
      ]
     },
     "metadata": {},
     "output_type": "display_data"
    },
    {
     "data": {
      "application/vnd.jupyter.widget-view+json": {
       "model_id": "050b9222d6994fa1b1eb8a3a6e35b8fc",
       "version_major": 2,
       "version_minor": 0
      },
      "text/plain": [
       "interactive(children=(RadioButtons(description='License', options=('Free', 'OpenSource', 'CreativeCommons'), v…"
      ]
     },
     "metadata": {},
     "output_type": "display_data"
    },
    {
     "data": {
      "application/vnd.jupyter.widget-view+json": {
       "model_id": "24fdb5a1bd004224bce989746c96adc5",
       "version_major": 2,
       "version_minor": 0
      },
      "text/plain": [
       "interactive(children=(HTML(value='<b>Add a Version Number</b> (optional)', description='x', placeholder=''), O…"
      ]
     },
     "metadata": {},
     "output_type": "display_data"
    },
    {
     "data": {
      "application/vnd.jupyter.widget-view+json": {
       "model_id": "48ae3ca5fefd4226bfdd011809c2dddc",
       "version_major": 2,
       "version_minor": 0
      },
      "text/plain": [
       "interactive(children=(Text(value='', description='URL location:', placeholder='github.com/name/repo'), Button(…"
      ]
     },
     "metadata": {},
     "output_type": "display_data"
    },
    {
     "data": {
      "application/vnd.jupyter.widget-view+json": {
       "model_id": "76a74d97a69441c7b1ca8e47ed5588ae",
       "version_major": 2,
       "version_minor": 0
      },
      "text/plain": [
       "interactive(children=(Text(value='', description='Commit:', placeholder=''), Button(description='Check commit'…"
      ]
     },
     "metadata": {},
     "output_type": "display_data"
    }
   ],
   "source": [
    "Form = Registration_Form()\n",
    "Form.show_registration_form()"
   ]
  },
  {
   "cell_type": "code",
   "execution_count": 258,
   "metadata": {},
   "outputs": [],
   "source": [
    "Zerlaut_Dextexhe_PCB2017 = {\n",
    "    'name':'Rall model morphology for Layer V pyramidal neuron in juvenile mice V1',\n",
    "    'alias':'Rall-Morpho_L5PyrMiceV1',\n",
    "    'contact': 'Zerlaut, Yann',\n",
    "    'contributors': 'Zerlaut, Yann; Destexhe, Alain',\n",
    "    'institution': 'CNRS, France',\n",
    "    'description': 'Neocortical processing of sensory input relies on the specific activation of subpopulations within the cortical network. Though specific circuitry is thought to be the primary mechanism underlying this functional principle, we explore here a putative complementary mechanism: whether diverse biophysical features in single neurons contribute to such differential activation. In a previous study, we reported that, in young mice visual cortex, individual neurons differ not only in their excitability but also in their sensitivities to the properties of the membrane potential fluctuations. In the present work, we analyze how this heterogeneity is translated into diverse input-output properties in the context of low synchrony population dynamics. As expected, we found that individual neurons couple differentially to specific form of presynaptic activity (emulating afferent stimuli of various properties) mostly because of their differences in excitability. However, we also found that the response to proximal dendritic input was controlled by the sensitivity to the speed of the fluctuations (which can be linked to various levels of density of sodium channels and sodium inactivation). Our study thus proposes a novel quantitative insight into the functional impact of biophysical heterogeneity: because of their various firing responses to fluctuations, individual neurons will differentially couple to local network activity.',\n",
    "    'species':'Mus Musculus',\n",
    "    'region':'Cortex',\n",
    "    'cell_type':'Pyramidal Cell',\n",
    "    'scope':'single cell',\n",
    "    'abstraction':'biophysical',\n",
    "    'version_name':'PCB2017',\n",
    "    'version_name':'version published in Plos Computational Biology 2017',\n",
    "    'data_url':'https://github.com/yzerlaut/diverse_coupling_to_synaptic_activity/',\n",
    "    'commit_id':'8223e95',\n",
    "    'license':'Free'}"
   ]
  },
  {
   "cell_type": "code",
   "execution_count": 259,
   "metadata": {},
   "outputs": [
    {
     "name": "stdout",
     "output_type": "stream",
     "text": [
      "-----------------------------------------------\n",
      "--- MODEL REGISTRATION IN HBP MODEL CATALOG ---\n",
      "-----------------------------------------------\n"
     ]
    },
    {
     "data": {
      "application/vnd.jupyter.widget-view+json": {
       "model_id": "febd60d96a034016bc370b35cbd7c3e2",
       "version_major": 2,
       "version_minor": 0
      },
      "text/plain": [
       "interactive(children=(Text(value='Rall model morphology for Layer V pyramidal neuron in juvenile mice V1', des…"
      ]
     },
     "metadata": {},
     "output_type": "display_data"
    },
    {
     "data": {
      "application/vnd.jupyter.widget-view+json": {
       "model_id": "86093a6024c24e9892368fdf2dee44a9",
       "version_major": 2,
       "version_minor": 0
      },
      "text/plain": [
       "interactive(children=(Text(value='Rall-Morpho_L5PyrMiceV1', description='Alias:', placeholder='e.g. L5-CA1_Ntw…"
      ]
     },
     "metadata": {},
     "output_type": "display_data"
    },
    {
     "data": {
      "application/vnd.jupyter.widget-view+json": {
       "model_id": "f6424607f90d44d298a7ce08115da180",
       "version_major": 2,
       "version_minor": 0
      },
      "text/plain": [
       "interactive(children=(Text(value='Zerlaut, Yann', description='Contact:', placeholder='e.g. Smith, John D.'), …"
      ]
     },
     "metadata": {},
     "output_type": "display_data"
    },
    {
     "data": {
      "application/vnd.jupyter.widget-view+json": {
       "model_id": "1ec7f39fd3c94d428a4de38cd9c656a0",
       "version_major": 2,
       "version_minor": 0
      },
      "text/plain": [
       "interactive(children=(Text(value='CNRS, France', description='Institution:', placeholder='e.g. CNRS, France'),…"
      ]
     },
     "metadata": {},
     "output_type": "display_data"
    },
    {
     "data": {
      "application/vnd.jupyter.widget-view+json": {
       "model_id": "be37f96521fa49dabfb5b358610d19ef",
       "version_major": 2,
       "version_minor": 0
      },
      "text/plain": [
       "interactive(children=(Text(value='Zerlaut, Yann; Destexhe, Alain', description='Contributors:', description_to…"
      ]
     },
     "metadata": {},
     "output_type": "display_data"
    },
    {
     "data": {
      "application/vnd.jupyter.widget-view+json": {
       "model_id": "fabeb2ddb99b4e999bfc8affd9a8b585",
       "version_major": 2,
       "version_minor": 0
      },
      "text/plain": [
       "interactive(children=(Textarea(value='Neocortical processing of sensory input relies on the specific activatio…"
      ]
     },
     "metadata": {},
     "output_type": "display_data"
    },
    {
     "data": {
      "application/vnd.jupyter.widget-view+json": {
       "model_id": "4a75e67b18d04af88886cb4f5f53a7a4",
       "version_major": 2,
       "version_minor": 0
      },
      "text/plain": [
       "interactive(children=(Text(value='', description='Fig. URL:', placeholder='github.com/name/repo/fig.png'), But…"
      ]
     },
     "metadata": {},
     "output_type": "display_data"
    },
    {
     "data": {
      "application/vnd.jupyter.widget-view+json": {
       "model_id": "1588ce003a6e4561b5210137f6aec065",
       "version_major": 2,
       "version_minor": 0
      },
      "text/plain": [
       "interactive(children=(Dropdown(description='Species:', index=3, options=('', 'Homo Sapiens', 'Rattus Norvegicu…"
      ]
     },
     "metadata": {},
     "output_type": "display_data"
    },
    {
     "data": {
      "application/vnd.jupyter.widget-view+json": {
       "model_id": "646ce83949bf4fcaaf6647966e3148d4",
       "version_major": 2,
       "version_minor": 0
      },
      "text/plain": [
       "interactive(children=(Dropdown(description='Region:', index=1, options=('', 'Cortex', 'Hippocampus', 'Cerebell…"
      ]
     },
     "metadata": {},
     "output_type": "display_data"
    },
    {
     "data": {
      "application/vnd.jupyter.widget-view+json": {
       "model_id": "bd64b6f675024602ae4030999da67426",
       "version_major": 2,
       "version_minor": 0
      },
      "text/plain": [
       "interactive(children=(Dropdown(description='Cell type:', index=1, options=('', 'Pyramidal Cell', 'Interneuron'…"
      ]
     },
     "metadata": {},
     "output_type": "display_data"
    },
    {
     "data": {
      "application/vnd.jupyter.widget-view+json": {
       "model_id": "a8848edda0ec4c5fb42f221e201f7cf3",
       "version_major": 2,
       "version_minor": 0
      },
      "text/plain": [
       "interactive(children=(Dropdown(description='Model scope:', index=2, options=('', 'network', 'single cell', 'su…"
      ]
     },
     "metadata": {},
     "output_type": "display_data"
    },
    {
     "data": {
      "application/vnd.jupyter.widget-view+json": {
       "model_id": "fb43a079e5f1427099e2151c31d0e7b6",
       "version_major": 2,
       "version_minor": 0
      },
      "text/plain": [
       "interactive(children=(Dropdown(description='Abstraction level:', index=1, options=('', 'biophysical', 'populat…"
      ]
     },
     "metadata": {},
     "output_type": "display_data"
    },
    {
     "data": {
      "application/vnd.jupyter.widget-view+json": {
       "model_id": "050b9222d6994fa1b1eb8a3a6e35b8fc",
       "version_major": 2,
       "version_minor": 0
      },
      "text/plain": [
       "interactive(children=(RadioButtons(description='License', options=('Free', 'OpenSource', 'CreativeCommons'), v…"
      ]
     },
     "metadata": {},
     "output_type": "display_data"
    },
    {
     "data": {
      "application/vnd.jupyter.widget-view+json": {
       "model_id": "24fdb5a1bd004224bce989746c96adc5",
       "version_major": 2,
       "version_minor": 0
      },
      "text/plain": [
       "interactive(children=(HTML(value='<b>Add a Version Number</b> (optional)', description='x', placeholder=''), O…"
      ]
     },
     "metadata": {},
     "output_type": "display_data"
    },
    {
     "data": {
      "application/vnd.jupyter.widget-view+json": {
       "model_id": "48ae3ca5fefd4226bfdd011809c2dddc",
       "version_major": 2,
       "version_minor": 0
      },
      "text/plain": [
       "interactive(children=(Text(value='https://github.com/yzerlaut/diverse_coupling_to_synaptic_activity/', descrip…"
      ]
     },
     "metadata": {},
     "output_type": "display_data"
    },
    {
     "data": {
      "application/vnd.jupyter.widget-view+json": {
       "model_id": "76a74d97a69441c7b1ca8e47ed5588ae",
       "version_major": 2,
       "version_minor": 0
      },
      "text/plain": [
       "interactive(children=(Text(value='8223e95', description='Commit:', placeholder=''), Button(description='Check …"
      ]
     },
     "metadata": {},
     "output_type": "display_data"
    }
   ],
   "source": [
    "Form.fill_with_dictionary(Zerlaut_Dextexhe_PCB2017)\n",
    "Form.show_registration_form()"
   ]
  },
  {
   "cell_type": "code",
   "execution_count": null,
   "metadata": {},
   "outputs": [],
   "source": []
  }
 ],
 "metadata": {
  "kernelspec": {
   "display_name": "Python 3",
   "language": "python",
   "name": "python3"
  },
  "language_info": {
   "codemirror_mode": {
    "name": "ipython",
    "version": 3
   },
   "file_extension": ".py",
   "mimetype": "text/x-python",
   "name": "python",
   "nbconvert_exporter": "python",
   "pygments_lexer": "ipython3",
   "version": "3.7.3"
  }
 },
 "nbformat": 4,
 "nbformat_minor": 2
}
